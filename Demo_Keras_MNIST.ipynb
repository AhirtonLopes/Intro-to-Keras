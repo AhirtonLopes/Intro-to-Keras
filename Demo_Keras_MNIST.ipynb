{
  "nbformat": 4,
  "nbformat_minor": 0,
  "metadata": {
    "colab": {
      "name": "Demo_Keras_MNIST.ipynb",
      "version": "0.3.2",
      "provenance": [],
      "collapsed_sections": [],
      "include_colab_link": true
    },
    "kernelspec": {
      "name": "python3",
      "display_name": "Python 3"
    }
  },
  "cells": [
    {
      "cell_type": "markdown",
      "metadata": {
        "id": "view-in-github",
        "colab_type": "text"
      },
      "source": [
        "<a href=\"https://colab.research.google.com/github/AhirtonLopes/Intro-to-Keras/blob/master/Demo_Keras_MNIST.ipynb\" target=\"_parent\"><img src=\"https://colab.research.google.com/assets/colab-badge.svg\" alt=\"Open In Colab\"/></a>"
      ]
    },
    {
      "metadata": {
        "id": "p_VzG4xDchLF",
        "colab_type": "text"
      },
      "cell_type": "markdown",
      "source": [
        "#Demo 1 - Operações básicas em DL via Keras (Base MNIST)\n",
        "\n",
        "Se você quiser digitar junto ...\n",
        "\n",
        "Execute um Notebook Jupyter local ou:\n",
        "\n",
        "Binder: Notebook Jupyter no Navegador\n",
        "\n",
        "Colaboratory: \"Google Docs para Notebooks Jupyter\""
      ]
    },
    {
      "metadata": {
        "id": "arOP6dyucxRo",
        "colab_type": "code",
        "colab": {}
      },
      "cell_type": "code",
      "source": [
        "reset -fs"
      ],
      "execution_count": 0,
      "outputs": []
    },
    {
      "metadata": {
        "id": "kKah0Sawc0A1",
        "colab_type": "code",
        "colab": {}
      },
      "cell_type": "code",
      "source": [
        "import keras"
      ],
      "execution_count": 0,
      "outputs": []
    },
    {
      "metadata": {
        "id": "4Qf54chxc46G",
        "colab_type": "code",
        "colab": {}
      },
      "cell_type": "code",
      "source": [
        "# Qual é o nosso mecanismo de backend?"
      ],
      "execution_count": 0,
      "outputs": []
    },
    {
      "metadata": {
        "id": "BX9WOwVXc5IV",
        "colab_type": "code",
        "outputId": "702ea9f9-64b6-4392-edeb-ee08b3b61f24",
        "colab": {
          "base_uri": "https://localhost:8080/",
          "height": 34
        }
      },
      "cell_type": "code",
      "source": [
        "keras.backend.backend()"
      ],
      "execution_count": 0,
      "outputs": [
        {
          "output_type": "execute_result",
          "data": {
            "text/plain": [
              "'tensorflow'"
            ]
          },
          "metadata": {
            "tags": []
          },
          "execution_count": 25
        }
      ]
    },
    {
      "metadata": {
        "id": "9GbGrYdUeWiM",
        "colab_type": "text"
      },
      "cell_type": "markdown",
      "source": [
        "TensorFlow:\n",
        "\n",
        "Um ótimo back-end;\n",
        "Uma arquitetura muito flexível que permite fazer praticamente qualquer operação numérica;\n",
        "Em seguida, implemente a computação em CPUs ou GPUs (uma ou mais) em desktops, nuvem ou dispositivos móveis."
      ]
    },
    {
      "metadata": {
        "id": "R1XFgB-JedQ-",
        "colab_type": "text"
      },
      "cell_type": "markdown",
      "source": [
        "# MNIST handwritten digit database: \n",
        "\n",
        "O “Hello World!” da Visão Computacional"
      ]
    },
    {
      "metadata": {
        "id": "ghFtaGOAc5h1",
        "colab_type": "code",
        "colab": {}
      },
      "cell_type": "code",
      "source": [
        "# Importando os dados"
      ],
      "execution_count": 0,
      "outputs": []
    },
    {
      "metadata": {
        "id": "RIfeAM3tc5ud",
        "colab_type": "code",
        "colab": {}
      },
      "cell_type": "code",
      "source": [
        "from keras.datasets import mnist"
      ],
      "execution_count": 0,
      "outputs": []
    },
    {
      "metadata": {
        "id": "a33-Y5cGc569",
        "colab_type": "code",
        "colab": {}
      },
      "cell_type": "code",
      "source": [
        "# Configurando nossos sets de terinamento e teste"
      ],
      "execution_count": 0,
      "outputs": []
    },
    {
      "metadata": {
        "id": "aUz1BXFrc6Ik",
        "colab_type": "code",
        "colab": {}
      },
      "cell_type": "code",
      "source": [
        "(x_train, y_train), (x_test, y_test) = mnist.load_data()"
      ],
      "execution_count": 0,
      "outputs": []
    },
    {
      "metadata": {
        "id": "8u1VGzc8erV9",
        "colab_type": "code",
        "outputId": "9c7b0624-25e5-4b2d-88de-d2c4ae769c4a",
        "colab": {
          "base_uri": "https://localhost:8080/",
          "height": 269
        }
      },
      "cell_type": "code",
      "source": [
        "from random import randint\n",
        "from matplotlib import pyplot\n",
        "\n",
        "%matplotlib inline\n",
        "\n",
        "# dica - inspecionar visualmente nossos dados\n",
        "i = randint(0, x_train.shape[0])\n",
        "pyplot.imshow(x_train[i], cmap='gray_r');"
      ],
      "execution_count": 0,
      "outputs": [
        {
          "output_type": "display_data",
          "data": {
            "image/png": "[encoded data removed]",
            "text/plain": [
              "<Figure size 432x288 with 1 Axes>"
            ]
          },
          "metadata": {
            "tags": []
          }
        }
      ]
    },
    {
      "metadata": {
        "id": "jseb1bpTergG",
        "colab_type": "code",
        "outputId": "1319715c-85fc-4e9a-85b7-841e62668164",
        "colab": {
          "base_uri": "https://localhost:8080/",
          "height": 269
        }
      },
      "cell_type": "code",
      "source": [
        "i = 27_011 #27_074 é um 4 ou um 9?\n",
        "pyplot.imshow(x_train[i], cmap='gray_r');"
      ],
      "execution_count": 0,
      "outputs": [
        {
          "output_type": "display_data",
          "data": {
            "image/png": "[encoded data removed]",
            "text/plain": [
              "<Figure size 432x288 with 1 Axes>"
            ]
          },
          "metadata": {
            "tags": []
          }
        }
      ]
    },
    {
      "metadata": {
        "id": "fyW4M3F7ezS3",
        "colab_type": "text"
      },
      "cell_type": "markdown",
      "source": [
        "Esse dígito é um 1?"
      ]
    },
    {
      "metadata": {
        "id": "nX42xA8rerk1",
        "colab_type": "code",
        "outputId": "6eb50d73-f1e2-468b-8a24-4d7fcb883a87",
        "colab": {
          "base_uri": "https://localhost:8080/",
          "height": 34
        }
      },
      "cell_type": "code",
      "source": [
        "y_train[i]"
      ],
      "execution_count": 0,
      "outputs": [
        {
          "output_type": "execute_result",
          "data": {
            "text/plain": [
              "1"
            ]
          },
          "metadata": {
            "tags": []
          },
          "execution_count": 32
        }
      ]
    },
    {
      "metadata": {
        "id": "Ihgja7gAfB0V",
        "colab_type": "text"
      },
      "cell_type": "markdown",
      "source": [
        "# \"Limpeza\" de dados\n",
        "\n",
        "Converter matriz de imagem em vetor para alimentar a primeira camada;"
      ]
    },
    {
      "metadata": {
        "id": "2Q9cR5C4ern3",
        "colab_type": "code",
        "colab": {}
      },
      "cell_type": "code",
      "source": [
        "# \"Limpeza\" de dados (Data Munging)"
      ],
      "execution_count": 0,
      "outputs": []
    },
    {
      "metadata": {
        "id": "8ppN5nlyerqp",
        "colab_type": "code",
        "colab": {}
      },
      "cell_type": "code",
      "source": [
        "image_size = 784 # 28 x 28\n",
        "\n",
        "x_train = x_train.reshape(x_train.shape[0], image_size) # Transformando de matriz para vetor\n",
        "x_train = x_train.astype('float32') # Elencando como inteiros de 32 bits\n",
        "x_train /= 255 # Normalizando nossas entradas de 0-255 to 0.0-1.0\n",
        "\n",
        "x_test = x_test.reshape(x_test.shape[0], image_size) # Transformando de matriz para vetor\n",
        "x_test = x_test.astype('float32') # Elencando como inteiros de 32 bits\n",
        "x_test /= 255 # Normalize inputs from 0-255 to 0.0-1.0"
      ],
      "execution_count": 0,
      "outputs": []
    },
    {
      "metadata": {
        "id": "HAekfhJ6fKo_",
        "colab_type": "text"
      },
      "cell_type": "markdown",
      "source": [
        "# Converter vetores de classes em matrizes de classes binárias"
      ]
    },
    {
      "metadata": {
        "id": "wRkglQIIerwC",
        "colab_type": "code",
        "colab": {}
      },
      "cell_type": "code",
      "source": [
        "y_train = keras.utils.to_categorical(y_train, 10)\n",
        "y_test = keras.utils.to_categorical(y_test, 10)"
      ],
      "execution_count": 0,
      "outputs": []
    },
    {
      "metadata": {
        "id": "EtTComfXfdHe",
        "colab_type": "text"
      },
      "cell_type": "markdown",
      "source": [
        "# Importar o tipo mais comum de rede neural\n"
      ]
    },
    {
      "metadata": {
        "id": "ILJab01QerzD",
        "colab_type": "code",
        "colab": {}
      },
      "cell_type": "code",
      "source": [
        "from keras.models import Sequential #Também pode-se instanciar outros modelos - Referência: https://keras.io/models/model/"
      ],
      "execution_count": 0,
      "outputs": []
    },
    {
      "metadata": {
        "id": "z4cXkTVTgCDq",
        "colab_type": "text"
      },
      "cell_type": "markdown",
      "source": [
        "# Definir instância do modelo\n"
      ]
    },
    {
      "metadata": {
        "id": "dYF1ETQRgGD1",
        "colab_type": "code",
        "colab": {}
      },
      "cell_type": "code",
      "source": [
        "model = Sequential()"
      ],
      "execution_count": 0,
      "outputs": []
    },
    {
      "metadata": {
        "id": "J9NQOEk-gINy",
        "colab_type": "text"
      },
      "cell_type": "markdown",
      "source": [
        "# Importando o tipo mais comum de camada de rede, totalmente interconectada (Dense - fully connected)\n"
      ]
    },
    {
      "metadata": {
        "id": "VcIZoM5KgNDJ",
        "colab_type": "code",
        "colab": {}
      },
      "cell_type": "code",
      "source": [
        "from keras.layers import Dense # Referência: https://keras.io/layers/"
      ],
      "execution_count": 0,
      "outputs": []
    },
    {
      "metadata": {
        "id": "wU5SnXkbgVHb",
        "colab_type": "text"
      },
      "cell_type": "markdown",
      "source": [
        "# Definir camada de entrada\n"
      ]
    },
    {
      "metadata": {
        "id": "X7PgKWnkgYEz",
        "colab_type": "code",
        "colab": {}
      },
      "cell_type": "code",
      "source": [
        "layer_input = Dense(units=512,            # Número de nós\n",
        "                    activation='sigmoid', # Não linearidade\n",
        "                    input_shape=(image_size,)) \n",
        "model.add(layer_input)"
      ],
      "execution_count": 0,
      "outputs": []
    },
    {
      "metadata": {
        "id": "IJMcz-HygeDo",
        "colab_type": "text"
      },
      "cell_type": "markdown",
      "source": [
        "# Definindo outra camada"
      ]
    },
    {
      "metadata": {
        "id": "vxeOxVVigfAW",
        "colab_type": "code",
        "colab": {}
      },
      "cell_type": "code",
      "source": [
        "model.add(Dense(units=512, activation='sigmoid'))"
      ],
      "execution_count": 0,
      "outputs": []
    },
    {
      "metadata": {
        "id": "3TMyUi5Rgiar",
        "colab_type": "text"
      },
      "cell_type": "markdown",
      "source": [
        "# Definindo camadas de saída"
      ]
    },
    {
      "metadata": {
        "id": "OHIEm1DJgtm4",
        "colab_type": "code",
        "colab": {}
      },
      "cell_type": "code",
      "source": [
        "layer_output = Dense(units=10,             # Número de dígitos (0-9)\n",
        "                     activation='softmax') # Converter ativação neural em probabilidade de categoria\n",
        "\n",
        "model.add(layer_output)"
      ],
      "execution_count": 0,
      "outputs": []
    },
    {
      "metadata": {
        "id": "2nCpYtrngxuh",
        "colab_type": "text"
      },
      "cell_type": "markdown",
      "source": [
        "# Sumário da arquitetura utilizada"
      ]
    },
    {
      "metadata": {
        "id": "zyHbLkjdgzeu",
        "colab_type": "code",
        "outputId": "a6b23768-bba4-48b2-8805-21103c33a1e6",
        "colab": {
          "base_uri": "https://localhost:8080/",
          "height": 238
        }
      },
      "cell_type": "code",
      "source": [
        "model.summary()"
      ],
      "execution_count": 0,
      "outputs": [
        {
          "output_type": "stream",
          "text": [
            "_________________________________________________________________\n",
            "Layer (type)                 Output Shape              Param #   \n",
            "=================================================================\n",
            "dense_4 (Dense)              (None, 512)               401920    \n",
            "_________________________________________________________________\n",
            "dense_5 (Dense)              (None, 512)               262656    \n",
            "_________________________________________________________________\n",
            "dense_6 (Dense)              (None, 10)                5130      \n",
            "=================================================================\n",
            "Total params: 669,706\n",
            "Trainable params: 669,706\n",
            "Non-trainable params: 0\n",
            "_________________________________________________________________\n"
          ],
          "name": "stdout"
        }
      ]
    },
    {
      "metadata": {
        "id": "RV2QfZ1Zg5ic",
        "colab_type": "text"
      },
      "cell_type": "markdown",
      "source": [
        "# Adicionando parâmetros de treinamento a arquitetura\n"
      ]
    },
    {
      "metadata": {
        "id": "2cJIVyYRg84a",
        "colab_type": "code",
        "colab": {}
      },
      "cell_type": "code",
      "source": [
        "# Dica - muitas vezes é boa prática compilar o modelo antes de executá-lo\n",
        "model.compile(loss='categorical_crossentropy', \n",
        "              optimizer='sgd',\n",
        "              metrics=['accuracy'])"
      ],
      "execution_count": 0,
      "outputs": []
    },
    {
      "metadata": {
        "id": "vPBmHYX9hAvC",
        "colab_type": "text"
      },
      "cell_type": "markdown",
      "source": [
        "# Treinando o modelo para apernder os pesos\n",
        "\n",
        "---\n",
        "\n",
        "\n"
      ]
    },
    {
      "metadata": {
        "id": "C7pFjIBwhFMr",
        "colab_type": "code",
        "outputId": "c52ec1e0-1735-421b-c065-279193da1c88",
        "colab": {
          "base_uri": "https://localhost:8080/",
          "height": 255
        }
      },
      "cell_type": "code",
      "source": [
        "training = model.fit(x_train, \n",
        "                     y_train,\n",
        "                     epochs=5, # Número de \"passos\" no dataset completo\n",
        "                     verbose=True, \n",
        "                     validation_split=0.1)"
      ],
      "execution_count": 0,
      "outputs": [
        {
          "output_type": "stream",
          "text": [
            "WARNING:tensorflow:From /usr/local/lib/python3.6/dist-packages/tensorflow/python/ops/math_ops.py:3066: to_int32 (from tensorflow.python.ops.math_ops) is deprecated and will be removed in a future version.\n",
            "Instructions for updating:\n",
            "Use tf.cast instead.\n",
            "Train on 54000 samples, validate on 6000 samples\n",
            "Epoch 1/5\n",
            "54000/54000 [==============================] - 27s 502us/step - loss: 2.1614 - acc: 0.3211 - val_loss: 1.9279 - val_acc: 0.5002\n",
            "Epoch 2/5\n",
            "54000/54000 [==============================] - 29s 533us/step - loss: 1.5319 - acc: 0.6548 - val_loss: 1.0862 - val_acc: 0.8065\n",
            "Epoch 3/5\n",
            "54000/54000 [==============================] - 43s 804us/step - loss: 0.9153 - acc: 0.7777 - val_loss: 0.6861 - val_acc: 0.8580\n",
            "Epoch 4/5\n",
            "54000/54000 [==============================] - 28s 524us/step - loss: 0.6656 - acc: 0.8263 - val_loss: 0.5205 - val_acc: 0.8758\n",
            "Epoch 5/5\n",
            "54000/54000 [==============================] - 27s 495us/step - loss: 0.5481 - acc: 0.8522 - val_loss: 0.4350 - val_acc: 0.8898\n"
          ],
          "name": "stdout"
        }
      ]
    },
    {
      "metadata": {
        "id": "HAsfBRWohfQ6",
        "colab_type": "text"
      },
      "cell_type": "markdown",
      "source": [
        "# Avaliação de performance do nosso modelo\n"
      ]
    },
    {
      "metadata": {
        "id": "JsXVccG3hhgS",
        "colab_type": "code",
        "outputId": "1cca3dfe-3fcb-4bef-935b-8479fa47519e",
        "colab": {
          "base_uri": "https://localhost:8080/",
          "height": 68
        }
      },
      "cell_type": "code",
      "source": [
        "loss, accuracy = model.evaluate(x_test, \n",
        "                                y_test, \n",
        "                                verbose=True)\n",
        "print(f\"Test loss: {loss:.3}\")\n",
        "print(f\"Test accuracy: {accuracy:.3%}\")"
      ],
      "execution_count": 0,
      "outputs": [
        {
          "output_type": "stream",
          "text": [
            "10000/10000 [==============================] - 1s 136us/step\n",
            "Test loss: 0.485\n",
            "Test accuracy: 86.830%\n"
          ],
          "name": "stdout"
        }
      ]
    }
  ]
}