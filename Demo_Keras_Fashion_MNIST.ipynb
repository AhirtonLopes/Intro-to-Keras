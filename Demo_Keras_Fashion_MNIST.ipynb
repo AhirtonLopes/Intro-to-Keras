{
  "nbformat": 4,
  "nbformat_minor": 0,
  "metadata": {
    "colab": {
      "name": "Demo_Keras_Fashion_MNIST.ipynb",
      "version": "0.3.2",
      "provenance": [],
      "collapsed_sections": [],
      "include_colab_link": true
    },
    "kernelspec": {
      "name": "python3",
      "display_name": "Python 3"
    }
  },
  "cells": [
    {
      "cell_type": "markdown",
      "metadata": {
        "id": "view-in-github",
        "colab_type": "text"
      },
      "source": [
        "<a href=\"https://colab.research.google.com/github/AhirtonLopes/Intro-to-Keras/blob/master/Demo_Keras_Fashion_MNIST.ipynb\" target=\"_parent\"><img src=\"https://colab.research.google.com/assets/colab-badge.svg\" alt=\"Open In Colab\"/></a>"
      ]
    },
    {
      "metadata": {
        "id": "RfO-8wwO1vga",
        "colab_type": "text"
      },
      "cell_type": "markdown",
      "source": [
        "#Demo 2 - Operações básicas em DL via Keras (Base Fashion_MNIST)\n",
        "\n",
        "Se você quiser digitar junto ...\n",
        "\n",
        "Execute um Notebook Jupyter local ou:\n",
        "\n",
        "Binder: Notebook Jupyter no Navegador\n",
        "\n",
        "Colaboratory: \"Google Docs para Notebooks Jupyter\""
      ]
    },
    {
      "metadata": {
        "id": "iTqSYNVew2ZV",
        "colab_type": "code",
        "colab": {}
      },
      "cell_type": "code",
      "source": [
        "import keras\n",
        "from keras.datasets import fashion_mnist\n",
        "from matplotlib import pyplot\n",
        "from random import randint\n",
        "from keras.models import Sequential"
      ],
      "execution_count": 0,
      "outputs": []
    },
    {
      "metadata": {
        "id": "16WAjAMixQ5l",
        "colab_type": "code",
        "colab": {}
      },
      "cell_type": "code",
      "source": [
        "# Configurar nossos sets de treinamento e teste\n",
        "(x_train, y_train), (x_test, y_test) = fashion_mnist.load_data()"
      ],
      "execution_count": 0,
      "outputs": []
    },
    {
      "metadata": {
        "id": "FcVCZakTyPYv",
        "colab_type": "code",
        "outputId": "c3eef584-17cf-4704-df55-c4e563acad41",
        "colab": {
          "base_uri": "https://localhost:8080/",
          "height": 269
        }
      },
      "cell_type": "code",
      "source": [
        "pyplot.imshow(x_train[randint(0, x_train.shape[0])], cmap='Blues_r'); #Testar com outros itens - só mudar o cmap - cmaps possíveis: #Testar com outros itens - só mudar o cmap - cmaps possíveis: Accent, Accent_r, Blues, Blues_r, BrBG, BrBG_r, BuGn, BuGn_r, BuPu, BuPu_r, CMRmap, CMRmap_r, Dark2, Dark2_r, GnBu, GnBu_r, Greens, Greens_r, Greys, Greys_r, OrRd, OrRd_r, Oranges, Oranges_r e +"
      ],
      "execution_count": 0,
      "outputs": [
        {
          "output_type": "display_data",
          "data": {
            "image/png": "[encoded data removed]",
            "text/plain": [
              "<Figure size 432x288 with 1 Axes>"
            ]
          },
          "metadata": {
            "tags": []
          }
        }
      ]
    },
    {
      "metadata": {
        "id": "cYSq5yuQxQ-6",
        "colab_type": "code",
        "colab": {}
      },
      "cell_type": "code",
      "source": [
        "# Definindo nosso modelo de CNN\n",
        "\n",
        "# Redefinindo as dimensões de entrada para garantir que a convolução funcione\n",
        "\n",
        "img_rows, img_cols = 28, 28\n",
        "x_train = x_train.reshape(x_train.shape[0], img_rows, img_cols, 1)\n",
        "x_test = x_test.reshape(x_test.shape[0], img_rows, img_cols, 1)\n",
        "input_shape = (img_rows, img_cols, 1)"
      ],
      "execution_count": 0,
      "outputs": []
    },
    {
      "metadata": {
        "id": "eamLR-bSxRB1",
        "colab_type": "code",
        "colab": {}
      },
      "cell_type": "code",
      "source": [
        "# Convertendo vetores de classes em matrizes de classe binária\n",
        "\n",
        "y_train = keras.utils.to_categorical(y_train, 10)\n",
        "y_test = keras.utils.to_categorical(y_test, 10)"
      ],
      "execution_count": 0,
      "outputs": []
    },
    {
      "metadata": {
        "id": "cgbkCAE6xREc",
        "colab_type": "code",
        "colab": {}
      },
      "cell_type": "code",
      "source": [
        "from keras.layers import Conv2D, Dense, Flatten, MaxPooling2D"
      ],
      "execution_count": 0,
      "outputs": []
    },
    {
      "metadata": {
        "id": "SGM7kvNixRG9",
        "colab_type": "code",
        "colab": {}
      },
      "cell_type": "code",
      "source": [
        "# Definindo nosso modelo\n",
        "\n",
        "model = Sequential()\n",
        "model.add(Conv2D(32, \n",
        "         kernel_size=(3, 3),\n",
        "         activation='relu',\n",
        "         input_shape=input_shape))\n",
        "model.add(Conv2D(64, (3, 3), activation='relu'))\n",
        "model.add(MaxPooling2D(pool_size=(2, 2)))\n",
        "model.add(Flatten())\n",
        "model.add(Dense(128, activation='relu'))\n",
        "model.add(Dense(10, activation='softmax'))"
      ],
      "execution_count": 0,
      "outputs": []
    },
    {
      "metadata": {
        "id": "qEZQCHnYxRJd",
        "colab_type": "code",
        "outputId": "4bd231b0-e27c-4ec5-de79-3a65ce22e2ba",
        "colab": {
          "base_uri": "https://localhost:8080/",
          "height": 340
        }
      },
      "cell_type": "code",
      "source": [
        "model.summary()"
      ],
      "execution_count": 0,
      "outputs": [
        {
          "output_type": "stream",
          "text": [
            "_________________________________________________________________\n",
            "Layer (type)                 Output Shape              Param #   \n",
            "=================================================================\n",
            "conv2d_5 (Conv2D)            (None, 26, 26, 32)        320       \n",
            "_________________________________________________________________\n",
            "conv2d_6 (Conv2D)            (None, 24, 24, 64)        18496     \n",
            "_________________________________________________________________\n",
            "max_pooling2d_3 (MaxPooling2 (None, 12, 12, 64)        0         \n",
            "_________________________________________________________________\n",
            "flatten_3 (Flatten)          (None, 9216)              0         \n",
            "_________________________________________________________________\n",
            "dense_5 (Dense)              (None, 128)               1179776   \n",
            "_________________________________________________________________\n",
            "dense_6 (Dense)              (None, 10)                1290      \n",
            "=================================================================\n",
            "Total params: 1,199,882\n",
            "Trainable params: 1,199,882\n",
            "Non-trainable params: 0\n",
            "_________________________________________________________________\n"
          ],
          "name": "stdout"
        }
      ]
    },
    {
      "metadata": {
        "id": "LZKCkJoxxRL_",
        "colab_type": "code",
        "colab": {}
      },
      "cell_type": "code",
      "source": [
        "model.compile(loss='categorical_crossentropy', \n",
        "              optimizer='adam',\n",
        "              metrics=['accuracy'])"
      ],
      "execution_count": 0,
      "outputs": []
    },
    {
      "metadata": {
        "id": "5KCfiCJ3xROf",
        "colab_type": "code",
        "outputId": "b382d74f-4491-4bfc-f8cd-50060924f580",
        "colab": {
          "base_uri": "https://localhost:8080/",
          "height": 68
        }
      },
      "cell_type": "code",
      "source": [
        "# Definindo nosso treinamento\n",
        "\n",
        "training = model.fit(x_train, \n",
        "                     y_train,\n",
        "                     epochs=1,\n",
        "                     verbose=True, \n",
        "                     validation_split=0.1)"
      ],
      "execution_count": 0,
      "outputs": [
        {
          "output_type": "stream",
          "text": [
            "Train on 54000 samples, validate on 6000 samples\n",
            "Epoch 1/1\n",
            "54000/54000 [==============================] - 175s 3ms/step - loss: 14.4630 - acc: 0.1026 - val_loss: 14.5305 - val_acc: 0.0985\n"
          ],
          "name": "stdout"
        }
      ]
    },
    {
      "metadata": {
        "id": "elVK7mEyxRRJ",
        "colab_type": "code",
        "outputId": "e17fc597-f5b2-479d-c680-8c54bda90cd5",
        "colab": {
          "base_uri": "https://localhost:8080/",
          "height": 68
        }
      },
      "cell_type": "code",
      "source": [
        "loss, accuracy = model.evaluate(x_test, \n",
        "                                y_test, \n",
        "                                verbose=True)\n",
        "print(f\"Test loss: {loss:.3}\")\n",
        "print(f\"Test accuracy: {accuracy:.3%}\")"
      ],
      "execution_count": 0,
      "outputs": [
        {
          "output_type": "stream",
          "text": [
            "10000/10000 [==============================] - 8s 818us/step\n",
            "Test loss: 14.5\n",
            "Test accuracy: 10.000%\n"
          ],
          "name": "stdout"
        }
      ]
    }
  ]
}